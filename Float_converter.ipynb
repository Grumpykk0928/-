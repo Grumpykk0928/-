{
  "nbformat": 4,
  "nbformat_minor": 0,
  "metadata": {
    "colab": {
      "provenance": []
    },
    "kernelspec": {
      "name": "python3",
      "display_name": "Python 3"
    },
    "language_info": {
      "name": "python"
    }
  },
  "cells": [
    {
      "cell_type": "markdown",
      "source": [
        "# **Converter for float** #"
      ],
      "metadata": {
        "id": "4gRgEU8L8qBl"
      }
    },
    {
      "cell_type": "code",
      "source": [
        "# input a number range from 0 to 255, but above or below is fine, check the power that should be input in the function\n",
        "a = float(input(\"please input a number between 0 and 255：\"))\n",
        "input_a = abs(a)\n",
        "bin = [0]*8\n",
        "bin_fl = [0]*23\n",
        "expo_bin = [0]*8\n",
        "num_int = int(str(input_a)[:str(input_a).find('.')])\n",
        "num_fl = input_a - num_int\n",
        "\n",
        "# function of the converter\n",
        "def bin_input(a, bin, power_start = 8, bin_start = 0, bin_end = 22):\n",
        "  while a > 0:\n",
        "    if 2**(power_start-1) <= a < 2**power_start: # set a general equation that can run repeatedly till the limited number of the power included\n",
        "      bin[bin_start] = 1\n",
        "      a -= 2**(power_start-1) \n",
        "    power_start -= 1 # power should be decreased in every step of adding \n",
        "    bin_start += 1 # the value in the list should be added in each step, either 1 or 0\n",
        "    if bin_start > bin_end: # if the bin_start is higher than bin_end, it means that the limited space of the list is fully occupied \n",
        "      break\n",
        "  return bin\n",
        "\n",
        "bin_pro = bin_input(num_int, bin, power_start = 8, bin_start = 0, bin_end = len(bin)-1) # The binary form of the number before the decimal point\n",
        "bin_float = bin_input(num_fl, bin_fl, power_start = 0, bin_start = 0, bin_end = len(bin_fl)-1) # The binary form of the number after the decimal point\n",
        "expo = len(bin_pro) - bin_pro.index(1) - 1 + 127 # exponent number \n",
        "expo_bin = bin_input(expo, expo_bin, power_start = 8, bin_start = 0, bin_end = 7) # The binary form of the exponent number\n",
        "Concat_bin = bin_pro + bin_float # total bumary form of the number inputted\n",
        "mantissa = Concat_bin[Concat_bin.index(1)+1:] # mantissa\n",
        "\n",
        "if a < 0:\n",
        "  print('The significand of ', a, 'is', 1)\n",
        "else:\n",
        "  print('The significand of ', a, 'is', 0)\n",
        "print('The exponent of ',a, 'is ', ''.join(map(str,expo_bin)))\n",
        "print('The mantissa of ', a, 'is ', ''.join(map(str,mantissa)))"
      ],
      "metadata": {
        "colab": {
          "base_uri": "https://localhost:8080/"
        },
        "id": "gT9iI_dFQoR_",
        "outputId": "f98cbcb6-75c9-4035-93ec-64028a019ada"
      },
      "execution_count": null,
      "outputs": [
        {
          "output_type": "stream",
          "name": "stdout",
          "text": [
            "please input a number between 0 and 255：-87.254698\n",
            "The significand of  -87.254698 is 1\n",
            "The exponent of  -87.254698 is  10000101\n",
            "The mantissa of  -87.254698 is  01011101000001001100111110001\n"
          ]
        }
      ]
    }
  ]
}