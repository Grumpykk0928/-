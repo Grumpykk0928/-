{
  "nbformat": 4,
  "nbformat_minor": 0,
  "metadata": {
    "colab": {
      "provenance": []
    },
    "kernelspec": {
      "name": "python3",
      "display_name": "Python 3"
    },
    "language_info": {
      "name": "python"
    }
  },
  "cells": [
    {
      "cell_type": "markdown",
      "source": [
        "# **Words frequency**"
      ],
      "metadata": {
        "id": "V8haSjcdLzAE"
      }
    },
    {
      "cell_type": "markdown",
      "source": [
        "### Set the present path of google drive "
      ],
      "metadata": {
        "id": "CFbbMI7qvD0t"
      }
    },
    {
      "cell_type": "code",
      "source": [
        "from google.colab import drive \n",
        "drive.mount('/content/drive')"
      ],
      "metadata": {
        "colab": {
          "base_uri": "https://localhost:8080/"
        },
        "id": "ROxYNdMlL8Gz",
        "outputId": "adc535d4-4685-4732-a474-2b48a1031816"
      },
      "execution_count": 1,
      "outputs": [
        {
          "output_type": "stream",
          "name": "stdout",
          "text": [
            "Mounted at /content/drive\n"
          ]
        }
      ]
    },
    {
      "cell_type": "markdown",
      "source": [
        "### File loading "
      ],
      "metadata": {
        "id": "XuMrc_wRRIki"
      }
    },
    {
      "cell_type": "code",
      "source": [
        "# File loading : hw2_data.txt\n",
        "filename = '/content/drive/MyDrive/Colab Notebooks/FDS_A/hw2_data.txt'\n",
        "with open(filename) as f:\n",
        "  data_pre = f.read().splitlines() # split the data without \\n which means the next line presentation\n",
        "print(data_pre)"
      ],
      "metadata": {
        "colab": {
          "base_uri": "https://localhost:8080/"
        },
        "id": "OdEsip_UOIA5",
        "outputId": "e0262261-13d3-4cb7-9687-f7c9da84b6dd"
      },
      "execution_count": 2,
      "outputs": [
        {
          "output_type": "stream",
          "name": "stdout",
          "text": [
            "['Cheese', 'Pizza', 'Coke', 'Steak', 'Burger', 'Fries', 'Cheese', 'Burger', 'Coke', 'Cheese', 'Cheese', 'Burger', 'Coke', 'Cheese', 'Coke', 'Cheese', 'Rib', 'Burger', 'Coke', 'Pizza', 'Pizza', 'Rib', 'Cheese', 'Cheese', 'Coke', 'Steak', 'Rib', 'Taco', 'Cheese', 'Cheese', 'Coke', 'Cheese', 'Steak', 'Taco', 'Cheese', 'Cheese', 'Cheese', 'Steak', 'Coke', 'Burger', 'Coke', 'Cheese', 'Pho', 'Cheese', 'Cheese', 'Burger', 'Fries', 'Burger', 'Burger', 'Coke', 'Cheese', 'Cheese', 'Fries', 'Burger', 'Cheese', 'Cheese', 'Burger', 'Cheese', 'Pizza', 'Fries', 'Burger', 'Cheese', 'Burger', 'Coke', 'Coke', 'Burger', 'Cheese', 'Fries', 'Burger', 'Pizza', 'Taco', 'Coke', 'Cheese', 'Pizza', 'Burger', 'Coke', 'Cheese', 'Pizza', 'Burger', 'Cheese', 'Rib', 'Coke', 'Fries', 'Steak', 'Burger', 'Taco', 'Pizza', 'Pizza', 'Cheese', 'Coke', 'Taco', 'Steak', 'Burger', 'Cheese', 'Coke', 'Cheese', 'Pizza', 'Steak', 'Burger', 'Coke', 'Cheese', 'Cheese', 'Burger', 'Cheese', 'Cheese', 'Taco', 'Coke', 'Cheese', 'Taco', 'Taco', 'Burger', 'Burger', 'Pizza', 'Rib', 'Rib', 'Coke', 'Cheese', 'Pizza', 'Cheese', 'Pho', 'Rib', 'Coke', 'Cheese', 'Fries', 'Coke', 'Burger', 'Burger', 'Coke', 'Pizza', 'Cheese', 'Fries', 'Cheese', 'Cheese', 'Cheese', 'Coke', 'Taco', 'Coke', 'Fries', 'Burger', 'Cheese', 'Fries', 'Burger', 'Cheese', 'Steak', 'Burger', 'Burger', 'Cheese', 'Cheese', 'Fries', 'Cheese', 'Coke', 'Coke', 'Fries', 'Fries', 'Rib', 'Cheese', 'Coke', 'Cheese', 'Taco', 'Steak', 'Taco', 'Burger', 'Rib', 'Fries', 'Pizza', 'Coke', 'Cheese', 'Pizza', 'Coke', 'Cheese', 'Coke', 'Burger', 'Cheese', 'Coke', 'Cheese', 'Burger', 'Steak', 'Cheese', 'Burger', 'Burger', 'Cheese', 'Fries', 'Burger', 'Cheese', 'Cheese', 'Coke', 'Burger', 'Coke', 'Steak', 'Pizza', 'Pizza', 'Burger', 'Pizza', 'Burger', 'Steak', 'Steak', 'Burger', 'Burger', 'Cheese', 'Coke', 'Cheese', 'Coke', 'Fries', 'Coke', 'Cheese', 'Pizza', 'Coke', 'Burger', 'Coke', 'Pho', 'Cheese', 'Cheese', 'Pizza', 'Burger', 'Burger', 'Cheese', 'Cheese', 'Coke', 'Steak', 'Burger', 'Burger', 'Fries', 'Burger', 'Coke', 'Burger', 'Pizza', 'Pizza', 'Burger', 'Coke', 'Burger', 'Rib', 'Rib', 'Fries', 'Cheese', 'Pizza', 'Coke', 'Cheese', 'Burger', 'Coke', 'Burger', 'Coke', 'Cheese', 'Cheese', 'Cheese', 'Coke', 'Burger', 'Fries', 'Fries', 'Cheese', 'Taco', 'Burger', 'Burger', 'Pizza', 'Coke', 'Coke', 'Burger', 'Cheese', 'Pizza', 'Steak', 'Coke', 'Burger', 'Cheese', 'Burger', 'Burger', 'Burger', 'Burger', 'Cheese', 'Fries', 'Taco', 'Coke', 'Pizza', 'Cheese', 'Steak', 'Coke', 'Cheese', 'Cheese', 'Pho', 'Burger', 'Pizza', 'Cheese', 'Coke', 'Burger', 'Fries', 'Burger', 'Cheese', 'Rib', 'Burger', 'Cheese', 'Taco', 'Coke', 'Pho', 'Pho', 'Burger', 'Fries', 'Burger', 'Coke', 'Burger', 'Potato', 'Cheese', 'Pizza', 'Burger', 'Fries', 'Fries', 'Cheese', 'Fries', 'Burger', 'Fries', 'Taco', 'Burger', 'Burger', 'Steak', 'Coke', 'Fries', 'Burger', 'Pizza', 'Coke', 'Burger', 'Cheese', 'Burger', 'Cheese', 'Cheese', 'Coke', 'Taco', 'Fries', 'Coke', 'Pizza', 'Cheese', 'Burger', 'Fries', 'Cheese', 'Cheese', 'Burger', 'Coke', 'Cheese', 'Coke', 'Fries', 'Burger', 'Coke', 'Cheese', 'Burger', 'Cheese', 'Steak', 'Cheese', 'Coke', 'Fries', 'Pizza', 'Fries', 'Coke', 'Cheese', 'Taco', 'Burger', 'Pizza', 'Pizza', 'Cheese', 'Cheese', 'Taco', 'Fries', 'Rib', 'Coke', 'Burger', 'Cheese', 'Pizza', 'Pizza', 'Taco', 'Pizza', 'Burger', 'Burger', 'Coke', 'Taco', 'Coke', 'Cheese', 'Coke', 'Burger', 'Cheese', 'Cheese', 'Fries', 'Cheese', 'Cheese', 'Pizza', 'Burger', 'Rib', 'Burger', 'Steak', 'Cheese', 'Steak', 'Burger', 'Coke', 'Cheese', 'Taco', 'Cheese', 'Fries', 'Burger', 'Burger', 'Burger', 'Cheese', 'Fries', 'Coke', 'Coke', 'Burger', 'Cheese', 'Coke', 'Coke', 'Burger', 'Taco', 'Burger', 'Burger', 'Fries', 'Coke', 'Burger', 'Cheese', 'Cheese', 'Steak', 'Rib', 'Cheese', 'Steak', 'Burger', 'Cheese', 'Cheese', 'Fries', 'Coke', 'Burger', 'Burger', 'Cheese', 'Pizza', 'Taco', 'Coke', 'Pho', 'Burger', 'Fries', 'Coke', 'Burger', 'Fries', 'Steak', 'Fries', 'Coke', 'Burger', 'Fries', 'Taco', 'Cheese', 'Pho', 'Burger', 'Cheese', 'Cheese', 'Pizza', 'Cheese', 'Burger', 'Burger', 'Burger', 'Pizza', 'Burger', 'Burger', 'Cheese', 'Steak', 'Cheese', 'Burger', 'Cheese', 'Coke', 'Burger', 'Rib', 'Coke', 'Burger', 'Pizza', 'Cheese', 'Rib', 'Burger', 'Coke', 'Cheese', 'Cheese', 'Taco', 'Taco', 'Pizza', 'Fries', 'Fries', 'Coke', 'Cheese', 'Fries', 'Burger', 'Cheese', 'Burger', 'Cheese', 'Cheese', 'Rib', 'Burger', 'Burger', 'Taco', 'Pizza', 'Coke', 'Burger', 'Fries', 'Burger', 'Cheese', 'Coke', 'Fries', 'Steak', 'Cheese', 'Burger', 'Burger', 'Cheese', 'Cheese', 'Burger', 'Coke', 'Coke', 'Burger', 'Cheese', 'Coke', 'Burger', 'Coke', 'Cheese', 'Fries', 'Cheese', 'Burger', 'Cheese', 'Burger', 'Cheese', 'Burger', 'Cheese', 'Burger', 'Cheese', 'Burger', 'Burger', 'Fries', 'Taco', 'Cheese', 'Taco', 'Coke', 'Cheese', 'Burger', 'Burger', 'Pizza', 'Burger', 'Cheese', 'Taco', 'Pho', 'Burger', 'Cheese', 'Cheese', 'Cheese', 'Coke', 'Pizza', 'Cheese', 'Burger', 'Pho', 'Rib', 'Taco', 'Cheese', 'Pizza', 'Burger', 'Coke', 'Pizza', 'Burger', 'Cheese', 'Fries', 'Cheese', 'Rib', 'Cheese', 'Burger', 'Steak', 'Burger', 'Burger', 'Steak', 'Burger', 'Cheese', 'Coke', 'Burger', 'Cheese', 'Cheese', 'Potato', 'Fries', 'Taco', 'Cheese', 'Cheese', 'Burger', 'Cheese', 'Cheese', 'Burger', 'Cheese', 'Coke', 'Fries', 'Pizza', 'Cheese', 'Coke', 'Pizza', 'Cheese', 'Burger', 'Burger', 'Fries', 'Fries', 'Pizza', 'Coke', 'Coke', 'Coke', 'Cheese', 'Coke', 'Cheese', 'Taco', 'Burger', 'Pizza', 'Taco', 'Pho', 'Cheese', 'Coke', 'Taco', 'Cheese', 'Burger', 'Coke', 'Steak', 'Steak', 'Coke', 'Pho', 'Cheese', 'Steak', 'Burger', 'Pizza', 'Taco', 'Coke', 'Rib', 'Burger', 'Burger', 'Steak', 'Cheese', 'Cheese', 'Pizza', 'Coke', 'Pizza', 'Burger', 'Rib', 'Steak', 'Pizza', 'Cheese', 'Pho', 'Burger', 'Rib', 'Cheese', 'Pizza', 'Rib', 'Cheese', 'Steak', 'Pizza', 'Steak', 'Pho', 'Pizza', 'Cheese', 'Fries', 'Burger', 'Taco', 'Burger', 'Pizza', 'Fries', 'Burger', 'Burger', 'Burger', 'Cheese', 'Coke', 'Coke', 'Coke', 'Fries', 'Coke', 'Cheese', 'Cheese', 'Pizza', 'Cheese', 'Cheese', 'Cheese', 'Fries', 'Cheese', 'Burger', 'Cheese', 'Cheese', 'Cheese', 'Pizza', 'Burger', 'Taco', 'Coke', 'Cheese', 'Cheese', 'Burger', 'Rib', 'Coke', 'Burger', 'Rib', 'Burger', 'Pizza', 'Rib', 'Taco', 'Pizza', 'Pho', 'Cheese', 'Cheese', 'Burger', 'Cheese', 'Pizza', 'Coke', 'Pizza', 'Cheese', 'Cheese', 'Coke', 'Fries', 'Cheese', 'Pizza', 'Taco', 'Burger', 'Cheese', 'Burger', 'Taco', 'Coke', 'Cheese', 'Steak', 'Burger', 'Burger', 'Burger', 'Coke', 'Cheese', 'Coke', 'Steak', 'Cheese', 'Taco', 'Pho', 'Cheese', 'Steak', 'Pizza', 'Coke', 'Steak', 'Cheese', 'Burger', 'Potato', 'Cheese', 'Coke', 'Cheese', 'Pizza', 'Burger', 'Coke', 'Burger', 'Fries', 'Steak', 'Pizza', 'Cheese', 'Burger', 'Fries', 'Steak', 'Pizza', 'Coke', 'Burger', 'Burger', 'Fries', 'Cheese', 'Cheese', 'Coke', 'Coke', 'Cheese', 'Burger', 'Burger', 'Coke', 'Burger', 'Cheese', 'Coke', 'Pho', 'Cheese', 'Cheese', 'Burger', 'Cheese', 'Cheese', 'Burger', 'Burger', 'Cheese', 'Coke', 'Taco', 'Burger', 'Rib', 'Fries', 'Taco', 'Steak', 'Burger', 'Cheese', 'Pizza', 'Fries', 'Pizza', 'Pizza', 'Cheese', 'Taco', 'Cheese', 'Coke', 'Pizza', 'Steak', 'Cheese', 'Rib', 'Cheese', 'Fries', 'Cheese', 'Cheese', 'Pizza', 'Cheese', 'Burger', 'Taco', 'Coke', 'Burger', 'Fries', 'Burger', 'Coke', 'Burger', 'Pizza', 'Pizza', 'Coke', 'Taco', 'Cheese', 'Coke', 'Cheese', 'Cheese', 'Fries', 'Cheese', 'Cheese', 'Steak', 'Pho', 'Fries', 'Cheese', 'Taco', 'Steak', 'Burger', 'Burger', 'Pizza', 'Cheese', 'Fries', 'Coke', 'Coke', 'Cheese', 'Rib', 'Coke', 'Cheese', 'Coke', 'Burger', 'Taco', 'Cheese', 'Burger', 'Burger', 'Coke', 'Coke', 'Pizza', 'Taco', 'Pizza', 'Steak', 'Rib', 'Coke', 'Burger', 'Burger', 'Coke', 'Fries', 'Coke', 'Pizza', 'Cheese', 'Pizza', 'Burger', 'Cheese', 'Burger', 'Coke', 'Fries', 'Steak', 'Taco', 'Coke', 'Cheese', 'Taco', 'Rib', 'Coke', 'Burger', 'Taco', 'Cheese', 'Pho', 'Burger', 'Coke', 'Coke', 'Coke', 'Taco', 'Fries', 'Cheese', 'Taco', 'Cheese', 'Taco', 'Coke', 'Cheese', 'Taco', 'Coke', 'Cheese', 'Burger', 'Fries', 'Cheese', 'Fries', 'Cheese', 'Pizza', 'Rib', 'Cheese', 'Cheese', 'Burger', 'Fries', 'Coke']\n"
          ]
        }
      ]
    },
    {
      "cell_type": "markdown",
      "source": [
        "### Hash Table & Value generation "
      ],
      "metadata": {
        "id": "5M9q3rm7We23"
      }
    },
    {
      "cell_type": "code",
      "source": [
        "import pandas as pd\n",
        "import matplotlib.pyplot as plt\n",
        "data_collect = {}\n",
        "for i in range(0, len(data_pre)): # set a for loop to check the number of different keys  \n",
        "  if data_pre[i] in data_collect: # set a if function to calculate the frequency of each key\n",
        "    data_collect[data_pre[i]] += 1\n",
        "  else:\n",
        "    data_collect[data_pre[i]] = 1 \n",
        "\n",
        "data = pd.DataFrame([data_collect], index = ['freqency']) # turn dictionary into dataframe form\n",
        "print(\"There are \", len(data_collect.keys()),\" different items in the text file.\")\n",
        "print(\"Following is the frequency of each different item in the file.\")\n",
        "data"
      ],
      "metadata": {
        "colab": {
          "base_uri": "https://localhost:8080/",
          "height": 115
        },
        "id": "NoLoEpXGYH02",
        "outputId": "380b63c5-68c9-4fbf-f2a8-5c31281920b2"
      },
      "execution_count": 26,
      "outputs": [
        {
          "output_type": "stream",
          "name": "stdout",
          "text": [
            "There are  10  different items in the text file.\n",
            "Following is the frequency of each different item in the file.\n"
          ]
        },
        {
          "output_type": "execute_result",
          "data": {
            "text/plain": [
              "          Cheese  Pizza  Coke  Steak  Burger  Fries  Rib  Taco  Pho  Potato\n",
              "freqency     234     83   145     46     196     76   33    57   19       3"
            ],
            "text/html": [
              "\n",
              "  <div id=\"df-ec13e2a3-f035-4624-96ea-dfa27c30e368\">\n",
              "    <div class=\"colab-df-container\">\n",
              "      <div>\n",
              "<style scoped>\n",
              "    .dataframe tbody tr th:only-of-type {\n",
              "        vertical-align: middle;\n",
              "    }\n",
              "\n",
              "    .dataframe tbody tr th {\n",
              "        vertical-align: top;\n",
              "    }\n",
              "\n",
              "    .dataframe thead th {\n",
              "        text-align: right;\n",
              "    }\n",
              "</style>\n",
              "<table border=\"1\" class=\"dataframe\">\n",
              "  <thead>\n",
              "    <tr style=\"text-align: right;\">\n",
              "      <th></th>\n",
              "      <th>Cheese</th>\n",
              "      <th>Pizza</th>\n",
              "      <th>Coke</th>\n",
              "      <th>Steak</th>\n",
              "      <th>Burger</th>\n",
              "      <th>Fries</th>\n",
              "      <th>Rib</th>\n",
              "      <th>Taco</th>\n",
              "      <th>Pho</th>\n",
              "      <th>Potato</th>\n",
              "    </tr>\n",
              "  </thead>\n",
              "  <tbody>\n",
              "    <tr>\n",
              "      <th>freqency</th>\n",
              "      <td>234</td>\n",
              "      <td>83</td>\n",
              "      <td>145</td>\n",
              "      <td>46</td>\n",
              "      <td>196</td>\n",
              "      <td>76</td>\n",
              "      <td>33</td>\n",
              "      <td>57</td>\n",
              "      <td>19</td>\n",
              "      <td>3</td>\n",
              "    </tr>\n",
              "  </tbody>\n",
              "</table>\n",
              "</div>\n",
              "      <button class=\"colab-df-convert\" onclick=\"convertToInteractive('df-ec13e2a3-f035-4624-96ea-dfa27c30e368')\"\n",
              "              title=\"Convert this dataframe to an interactive table.\"\n",
              "              style=\"display:none;\">\n",
              "        \n",
              "  <svg xmlns=\"http://www.w3.org/2000/svg\" height=\"24px\"viewBox=\"0 0 24 24\"\n",
              "       width=\"24px\">\n",
              "    <path d=\"M0 0h24v24H0V0z\" fill=\"none\"/>\n",
              "    <path d=\"M18.56 5.44l.94 2.06.94-2.06 2.06-.94-2.06-.94-.94-2.06-.94 2.06-2.06.94zm-11 1L8.5 8.5l.94-2.06 2.06-.94-2.06-.94L8.5 2.5l-.94 2.06-2.06.94zm10 10l.94 2.06.94-2.06 2.06-.94-2.06-.94-.94-2.06-.94 2.06-2.06.94z\"/><path d=\"M17.41 7.96l-1.37-1.37c-.4-.4-.92-.59-1.43-.59-.52 0-1.04.2-1.43.59L10.3 9.45l-7.72 7.72c-.78.78-.78 2.05 0 2.83L4 21.41c.39.39.9.59 1.41.59.51 0 1.02-.2 1.41-.59l7.78-7.78 2.81-2.81c.8-.78.8-2.07 0-2.86zM5.41 20L4 18.59l7.72-7.72 1.47 1.35L5.41 20z\"/>\n",
              "  </svg>\n",
              "      </button>\n",
              "      \n",
              "  <style>\n",
              "    .colab-df-container {\n",
              "      display:flex;\n",
              "      flex-wrap:wrap;\n",
              "      gap: 12px;\n",
              "    }\n",
              "\n",
              "    .colab-df-convert {\n",
              "      background-color: #E8F0FE;\n",
              "      border: none;\n",
              "      border-radius: 50%;\n",
              "      cursor: pointer;\n",
              "      display: none;\n",
              "      fill: #1967D2;\n",
              "      height: 32px;\n",
              "      padding: 0 0 0 0;\n",
              "      width: 32px;\n",
              "    }\n",
              "\n",
              "    .colab-df-convert:hover {\n",
              "      background-color: #E2EBFA;\n",
              "      box-shadow: 0px 1px 2px rgba(60, 64, 67, 0.3), 0px 1px 3px 1px rgba(60, 64, 67, 0.15);\n",
              "      fill: #174EA6;\n",
              "    }\n",
              "\n",
              "    [theme=dark] .colab-df-convert {\n",
              "      background-color: #3B4455;\n",
              "      fill: #D2E3FC;\n",
              "    }\n",
              "\n",
              "    [theme=dark] .colab-df-convert:hover {\n",
              "      background-color: #434B5C;\n",
              "      box-shadow: 0px 1px 3px 1px rgba(0, 0, 0, 0.15);\n",
              "      filter: drop-shadow(0px 1px 2px rgba(0, 0, 0, 0.3));\n",
              "      fill: #FFFFFF;\n",
              "    }\n",
              "  </style>\n",
              "\n",
              "      <script>\n",
              "        const buttonEl =\n",
              "          document.querySelector('#df-ec13e2a3-f035-4624-96ea-dfa27c30e368 button.colab-df-convert');\n",
              "        buttonEl.style.display =\n",
              "          google.colab.kernel.accessAllowed ? 'block' : 'none';\n",
              "\n",
              "        async function convertToInteractive(key) {\n",
              "          const element = document.querySelector('#df-ec13e2a3-f035-4624-96ea-dfa27c30e368');\n",
              "          const dataTable =\n",
              "            await google.colab.kernel.invokeFunction('convertToInteractive',\n",
              "                                                     [key], {});\n",
              "          if (!dataTable) return;\n",
              "\n",
              "          const docLinkHtml = 'Like what you see? Visit the ' +\n",
              "            '<a target=\"_blank\" href=https://colab.research.google.com/notebooks/data_table.ipynb>data table notebook</a>'\n",
              "            + ' to learn more about interactive tables.';\n",
              "          element.innerHTML = '';\n",
              "          dataTable['output_type'] = 'display_data';\n",
              "          await google.colab.output.renderOutput(dataTable, element);\n",
              "          const docLink = document.createElement('div');\n",
              "          docLink.innerHTML = docLinkHtml;\n",
              "          element.appendChild(docLink);\n",
              "        }\n",
              "      </script>\n",
              "    </div>\n",
              "  </div>\n",
              "  "
            ]
          },
          "metadata": {},
          "execution_count": 26
        }
      ]
    }
  ]
}