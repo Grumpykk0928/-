{
  "nbformat": 4,
  "nbformat_minor": 0,
  "metadata": {
    "colab": {
      "provenance": []
    },
    "kernelspec": {
      "name": "python3",
      "display_name": "Python 3"
    },
    "language_info": {
      "name": "python"
    }
  },
  "cells": [
    {
      "cell_type": "markdown",
      "source": [
        "# **binary and hexadecimal converter**"
      ],
      "metadata": {
        "id": "FJ3inv26zNjL"
      }
    },
    {
      "cell_type": "code",
      "source": [
        "a = int(input(\"please input an integer between 0 and 255：\"))\n",
        "bin = [0]*8\n",
        "Hex_dict = [0,1,2,3,4,5,6,7,8,9,\"A\",\"B\",\"C\",\"D\",\"E\",\"F\"]\n",
        "def bin_input(a, bin):\n",
        "  while a>0:\n",
        "    if a in range(2**7, 2**8):\n",
        "      bin[0] = 1\n",
        "      a -= 2**7\n",
        "    elif a in range(2**6, 2**7):\n",
        "      bin[1] = 1\n",
        "      a -= 2**6\n",
        "    elif a in range(2**5, 2**6):\n",
        "      bin[2] = 1\n",
        "      a -= 2**5\n",
        "    elif a in range(2**4, 2**5):\n",
        "      bin[3] = 1\n",
        "      a -= 2**4\n",
        "    elif a in range(2**3, 2**4):\n",
        "      bin[4] = 1\n",
        "      a -= 2**3\n",
        "    elif a in range(2**2, 2**3):\n",
        "      bin[5] = 1\n",
        "      a -= 2**2\n",
        "    elif a in range(2**1, 2**2):\n",
        "      bin[6] = 1\n",
        "      a -= 2**1\n",
        "    elif a in range(2**0, 2**1):\n",
        "      bin[7] = 1\n",
        "      a -= 2**0\n",
        "  return bin\n",
        "def hex_input(bin, Hex_dict):\n",
        "  [hex_output_1, hex_output_2] = [Hex_dict[bin[0]*2**3 + bin[1]*2**2 + bin[2]*2**1 + bin[3]*2**0], \n",
        "                  Hex_dict[bin[4]*2**3 + bin[5]*2**2 + bin[6]*2**1 + bin[7]*2**0]]\n",
        "  return [hex_output_1, hex_output_2]\n",
        "\n",
        "if a > 255:\n",
        "  print(\"You put the wrong range of number!!!\")\n",
        "else:\n",
        "  bin_output = bin_input(a, bin)\n",
        "  print(a, \"in binary form is\", ''.join(map(str,bin_output)))\n",
        "  hex_output = hex_input(bin_output, Hex_dict)\n",
        "  print(a, \"in hexadecimal form is\", ''.join(map(str,hex_output)))"
      ],
      "metadata": {
        "colab": {
          "base_uri": "https://localhost:8080/"
        },
        "id": "g7CAxA6ETl_6",
        "outputId": "e77e0d90-3d92-44e7-bd9a-219c15b356d2"
      },
      "execution_count": 116,
      "outputs": [
        {
          "output_type": "stream",
          "name": "stdout",
          "text": [
            "please input an integer between 0 and 255：95\n",
            "95 in binary form is 01011111\n",
            "95 in hexadecimal form is 5F\n"
          ]
        }
      ]
    }
  ]
}